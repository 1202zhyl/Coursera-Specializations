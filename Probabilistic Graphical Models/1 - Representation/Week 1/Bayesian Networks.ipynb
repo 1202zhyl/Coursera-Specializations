{
 "cells": [
  {
   "cell_type": "markdown",
   "metadata": {},
   "source": [
    "# Week 1\n",
    "\n",
    "### Basic Definitions\n",
    "\n",
    "A **model** is a declarative representation, where declarative means that it stands on its own irrespective of the algorithms applied on to it. This has 2 major advantages:\n",
    "\n",
    "- We can apply the model to a single algorithm to observe one particular property or to multiple algorithms to observe several properties.\n",
    "\n",
    "- We separate the construction of the model from the application of any algorithm on to it.\n",
    "\n",
    "**Graphical models** are complex systems having large number of variables and our final goal is to learn a probability distribution $P(X_1, X_2, ..., X_n)$. There are two types of graphical models:\n",
    "\n",
    "- Bayesian Networks (Directed)\n",
    "- Markov Networks (Undirected)\n"
   ]
  },
  {
   "cell_type": "markdown",
   "metadata": {},
   "source": [
    "A **factor** is a function / table that takes a bunch of arguments and assigns a value to them. It is denoted as $\\phi (X_1, X_2, ..., X_n)$. The list of arguments is called its **scope**. Examples include joint probability distributions, conditional probability distributions (CPD), etc.\n",
    "\n",
    "Common operations on factors:\n",
    "- **Factor product**: $\\phi (X, Y, Z) = \\phi (X, Y) \\phi (Y, Z)$\n",
    "- **Factor marginalization**: $\\phi (X, Y) = \\sum_{z}^{} \\phi (X, Y, Z)$\n",
    "- **Factor reduction**: Extracting $\\phi (X, Y \\hspace{.1cm} | \\hspace{.1cm} z_1)$ from $P(X, Y, Z)$\n",
    "\n",
    "Why factors?\n",
    "- Fundamental building blocks for defining distributions in high dimensions\n",
    "- They are the set of ops for manipulating probability distributions"
   ]
  },
  {
   "cell_type": "markdown",
   "metadata": {},
   "source": [
    "## Bayesian Networks\n",
    "\n",
    "$P$ factorizes over $G$ implies:\n",
    "- $G$ is a graph over $X_1, X_2, ..., X_n$\n",
    "- $P(X_1, X_2, ..., X_n) = \\prod_{i=1}^{n} P(X_i, Par_{G}(X_i))$ where $Par_G(X_i)$ denotes the immediate parent of $X_i$ in the graph $G$.\n",
    "\n",
    "There are [three](http://spark-university.s3.amazonaws.com/stanford-pgm/slides/2.1.2-Repn-BNs-patterns.pdf) types of reasoning patterns:\n",
    "- **Causal**: Reasoning goes in the causal direction, i.e. from the top to the bottom.\n",
    "- **Evidence**: Reasoning goes the bottom up.\n",
    "- **Inter-causal**: Flow of information between two causes of a single effect.\n",
    "\n",
    "### Flow of influence\n",
    "The scenarios in which $X$ can influence $Y$ are:\n",
    "- $X \\rightarrow Y$\n",
    "- $X \\leftarrow Y$\n",
    "- $X \\rightarrow W \\rightarrow Y$\n",
    "- $X \\leftarrow W \\leftarrow Y$\n",
    "- $X \\leftarrow W \\rightarrow Y$\n",
    "\n",
    "The scenario where $X$ can't influence $Y$ is: $X \\rightarrow W \\leftarrow Y$ <br>\n",
    "Such a structure is called **v-structure**. <br>\n",
    "**Active trail**: A sequence $X_1, X_2, ..., X_n$ such that there is no v-structure.\n",
    "\n",
    "Suppose we are given that $Z$ is observed. How does the influence of $X$ over $Y$ change? <br>\n",
    "If $W \\notin Z$ (i.e. $W$ or any of its descendants is not in $Z$), then there is no change. However, if $W \\in Z$, then the 3 bottom scenarios where $X$ earlier influenced $Y$, it no longer does. Also, the v-structure activates in that case, i.e., $X$ now influences $Y$.\n",
    "\n",
    "A trail $X_1, X_2, ..., X_n$ given $Z$ is **active** if all v-structures are activated and any $X_i$ that is not a part of any v-structure, cannnot be $Z$."
   ]
  },
  {
   "cell_type": "markdown",
   "metadata": {},
   "source": [
    "### Conditional Independence\n",
    "\n",
    "Independence is a strong condition, which is rarely observed. **Conditional independence** is more frequently observed. Factorization of a distribution $P$ implies independencies that holds in $P$.\n",
    "\n",
    "$$P(X, Y, Z) \\propto \\phi (X, Z) \\phi(Y, Z)$$\n",
    "\n",
    "The above factorization implies that $X$ and $Y$ are independent given $Z$.\n",
    "\n",
    "**d-separation**: $X$ and $Y$ are said to be d-separated given $Z$ if there is no active trail in the graph $G$ from $X$ to $Y$ given $Z$. d-separation implies independence. <br>\n",
    "\n",
    "If $P$ factorizes $G$, then in $P$, any variable is d-separated of all its non-descendants, given its parents. There are two ways influence can flow from a non-descendant to a variable:\n",
    "- **Through a parent**: In this case, the trail is blocked by the parent.\n",
    "- **Through a descendant**: In this case, since a parent is observed, i.e., a descendant is not observed and hence, the v-structure is not activated. Thus, the trail is not active."
   ]
  },
  {
   "cell_type": "markdown",
   "metadata": {},
   "source": [
    "### I-maps\n",
    "\n",
    "$I(G)$ represents all the independencies in $G$.\n",
    "\n",
    "$$I(G) = \\{(X \\perp Y \\hspace{.1cm} | \\hspace{.1cm} Z): d-sep_G(X, Y \\hspace{.1cm} | \\hspace{.1cm} Z)\\}$$\n",
    "\n",
    "If $P$ satisfies all of $I(G)$, then $G$ is called an I-map of $P$.\n",
    "Thus, we have two views of the graph structure:\n",
    "- **Factorization** as a data structure that tells how the distribution $P$ can be broken into pieces.\n",
    "- **I-map** where the independencies endoded by $G$ hold in $P$."
   ]
  },
  {
   "cell_type": "markdown",
   "metadata": {},
   "source": [
    "### Naive Bayes\n",
    "\n",
    "The task given is that that we have several features $X_i$ in our data and we need to correctly predict the class $C$. The assumption in *Naive Bayes* is that two features $X_i$ and $X_j$ are independent given the class $C$.\n",
    "$$ \\forall X_i, X_j, i \\neq j, \\hspace{.1cm} (X_i \\perp X_j) \\hspace{.1cm} / \\hspace{.1cm} C$$"
   ]
  },
  {
   "cell_type": "code",
   "execution_count": null,
   "metadata": {},
   "outputs": [],
   "source": []
  }
 ],
 "metadata": {
  "kernelspec": {
   "display_name": "Python 2",
   "language": "python",
   "name": "python2"
  },
  "language_info": {
   "codemirror_mode": {
    "name": "ipython",
    "version": 2
   },
   "file_extension": ".py",
   "mimetype": "text/x-python",
   "name": "python",
   "nbconvert_exporter": "python",
   "pygments_lexer": "ipython2",
   "version": "2.7.9"
  }
 },
 "nbformat": 4,
 "nbformat_minor": 2
}
