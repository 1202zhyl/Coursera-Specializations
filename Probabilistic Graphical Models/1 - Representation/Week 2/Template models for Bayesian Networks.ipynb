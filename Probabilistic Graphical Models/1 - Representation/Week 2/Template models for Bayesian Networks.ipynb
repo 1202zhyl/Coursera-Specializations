{
 "cells": [
  {
   "cell_type": "markdown",
   "metadata": {},
   "source": [
    "# Week 2\n",
    "\n",
    "## Temporal models for Bayesian Networks\n",
    "\n",
    "**Temporal Models** represent a large set of cases where we come up with a general template / representation to solve multiple problems using the exact same model. The input to a temporal model can be a family tree, where we want to reason about certain traits. Now, given another family, instead of building a new model, we can re-use mant characteristics of the earlier model. Also, the reasoning between a mother and a son (for e.g.) can be shared within a model, between all mother-son nodes. (See the second video for Week 2 at instant 2:02 for more clarity). \n",
    "\n",
    "In the case of a Named-Entity Recognition (NER) task, the label for each node is independent of the labels for the other nodes and hence, each of them represent the same distribution.\n",
    "\n",
    "These give rise to the temporal variables (TV) that can be shared both across models and within a model. These TVs are duplicated multiple times, for e.g. at different instances of time.\n",
    "\n",
    "There are two types of template models:\n",
    "- Dynamic Bayesian Networks (Temporal models)\n",
    "- Object Relational Models\n",
    "    - Directed\n",
    "    - Undirected\n",
    "    "
   ]
  },
  {
   "cell_type": "markdown",
   "metadata": {},
   "source": [
    "### Temporal Models\n",
    "\n",
    "**Temporal models** represent systems that evolve over time. Temporal models are characterized by the following:\n",
    "- Discretize time by picking a time granularity, $\\triangle$\n",
    "- $X(t)$ represents the value of the variable $X$ at time t$\\triangle$.\n",
    "- $X^{(t_1:t_2)} = \\{X^{t_1}, ..., X^{t_2}\\}$, $t_1 \\leq  t_2$ \n",
    "\n",
    "We intend to find $P(X^{(t_1:t_2)})$.\n",
    "\n",
    "We have a Ground Bayesian Network that we keep copying to create new time slice variables, given previous ones. One such model is the **2 Time Slice Bayesian Networks (2-TBN)**. A 2-TBN over $X_1, X_2, ..., X_n$ is defined as a BN **fragment** with the following properties:\n",
    "- The nodes are $X_1^{'}, X_2^{'}, ..., X_n^{'}$ \\& a subset of $X_1, X_2, ..., X_n$ (subset because it may be possible that multiple $X_i$s map to the same $X_j^{'}$ and that some of the $X_i$s map to none of the $X_j^{'}$s.\n",
    "- Only $X_1^{'}, X_2^{'}, ..., X_n^{'}$  have CPD and parents. The CPD is given by:\n",
    "$$ P(X^{'} \\hspace{.1cm} | \\hspace{.1cm} X) = \\prod^{i=1}_{n} P(X^{'} \\hspace{.1cm} | \\hspace{.1cm} Pa(X^{'}))$$\n",
    "\n",
    "where $Pa(X^{'})$ denotes the parents of $X^{'}$.\n",
    "\n",
    "In a **Template Transition model**, we draw the parent-child relationship between the nodes. When there is an edge between a node at time $t$ to a node at time $t+1$, we call it an **inter-time slice**. An edge completely within the time splice $t+1$ is said to be **rapidly-acting**. Also, an edge that goes from a variable state at time $t$ to the state of the same variable at time $t+1$ is said to be **persistent**. \n",
    "\n",
    "\n",
    "A **Dynamic Bayesian Network (DBN)** over $X_1, X_2, ..., X_n$ is defined as:\n",
    "- a 2-TBN $BN_{\\rightarrow}$ over $X_1, X_2, ..., X_n$.\n",
    "- a Bayesian network $BN^{(0)}$ over $X_1^{(0)}, X_2^{(0)}, ..., X_n^{(0)}$. \n",
    "\n",
    "DBNs make the following assumptions:\n",
    "- Markov Assumption\n",
    "- Time invariance\n",
    "\n",
    "This can be used to define probability distribution over arbitrarily long time sequence $0, 1, ..., T$ using a ground (unrolled) networks such that:\n",
    "- The dependency model for $X_1^{(0)}, X_2^{(0)}, ..., X_n^{(0)}$ is copied from $BN^{(0)}$.\n",
    "- The dependency model for $X_1^{(t)}, X_2^{(t)}, ..., X_n^{(t)}$ for all $t > 0$ is copied from $BN_{\\rightarrow}$."
   ]
  },
  {
   "cell_type": "code",
   "execution_count": null,
   "metadata": {},
   "outputs": [],
   "source": []
  }
 ],
 "metadata": {
  "kernelspec": {
   "display_name": "Python 2",
   "language": "python",
   "name": "python2"
  },
  "language_info": {
   "codemirror_mode": {
    "name": "ipython",
    "version": 2
   },
   "file_extension": ".py",
   "mimetype": "text/x-python",
   "name": "python",
   "nbconvert_exporter": "python",
   "pygments_lexer": "ipython2",
   "version": "2.7.9"
  }
 },
 "nbformat": 4,
 "nbformat_minor": 2
}
