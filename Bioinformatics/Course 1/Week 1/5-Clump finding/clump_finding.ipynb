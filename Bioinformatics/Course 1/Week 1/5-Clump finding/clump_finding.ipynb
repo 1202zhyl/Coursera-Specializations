{
 "cells": [
  {
   "cell_type": "code",
   "execution_count": 61,
   "metadata": {
    "collapsed": false
   },
   "outputs": [],
   "source": [
    "def find_clumps(string, k, L, t):\n",
    "    clump = {}\n",
    "    count = {}\n",
    "    for i in range(L-k+1):\n",
    "        pattern = string[i: i+k]\n",
    "        if pattern not in count:\n",
    "            count[pattern] = 0\n",
    "        if pattern not in clump:\n",
    "            clump[pattern] = 0\n",
    "\n",
    "        count[pattern] += 1\n",
    "        if count[pattern] >= t:\n",
    "            clump[pattern] = 1\n",
    "        \n",
    "    for i in range(1, len(string) - L + 1):\n",
    "        first_pattern = string[i-1: i-1+k]\n",
    "        count[first_pattern] -= 1\n",
    "        last_pattern = string[i+L-k:i+L]\n",
    "        if last_pattern not in count:\n",
    "            count[last_pattern] = 0\n",
    "        if last_pattern not in clump:\n",
    "            clump[last_pattern] = 0\n",
    "\n",
    "        count[last_pattern] += 1\n",
    "        if count[last_pattern] >= t:\n",
    "            clump[last_pattern] = 1\n",
    "        \n",
    "    f = open('output.txt', 'w')\n",
    "    result = ''\n",
    "    count = 0\n",
    "    for pattern in clump:\n",
    "        if clump[pattern] == 1:\n",
    "            count += 1\n",
    "            result += pattern + \" \"\n",
    "    \n",
    "    print('%d clumps found' % count)\n",
    "    f.write(result)"
   ]
  },
  {
   "cell_type": "code",
   "execution_count": 48,
   "metadata": {
    "collapsed": true
   },
   "outputs": [],
   "source": [
    "f = open('dataset_4_5.txt', 'r')"
   ]
  },
  {
   "cell_type": "code",
   "execution_count": 49,
   "metadata": {
    "collapsed": false
   },
   "outputs": [],
   "source": [
    "arguments = f.readlines()"
   ]
  },
  {
   "cell_type": "code",
   "execution_count": 51,
   "metadata": {
    "collapsed": false
   },
   "outputs": [],
   "source": [
    "string = arguments[0].strip()\n",
    "k = int(arguments[1].split(\" \")[0])\n",
    "L = int(arguments[1].split(\" \")[1])\n",
    "t = int(arguments[1].split(\" \")[2])"
   ]
  },
  {
   "cell_type": "code",
   "execution_count": 53,
   "metadata": {
    "collapsed": false
   },
   "outputs": [],
   "source": [
    "find_clumps(string, k, L, t)"
   ]
  },
  {
   "cell_type": "code",
   "execution_count": 57,
   "metadata": {
    "collapsed": true
   },
   "outputs": [],
   "source": [
    "f = open('E_coli.txt', 'r')"
   ]
  },
  {
   "cell_type": "code",
   "execution_count": 58,
   "metadata": {
    "collapsed": false
   },
   "outputs": [],
   "source": [
    "string = f.read()"
   ]
  },
  {
   "cell_type": "code",
   "execution_count": 59,
   "metadata": {
    "collapsed": true
   },
   "outputs": [],
   "source": [
    "k = 9\n",
    "L = 500\n",
    "t = 3"
   ]
  },
  {
   "cell_type": "code",
   "execution_count": 62,
   "metadata": {
    "collapsed": false
   },
   "outputs": [
    {
     "name": "stdout",
     "output_type": "stream",
     "text": [
      "1904 clumps found\n"
     ]
    }
   ],
   "source": [
    "find_clumps(string, k, L, t)"
   ]
  },
  {
   "cell_type": "code",
   "execution_count": null,
   "metadata": {
    "collapsed": true
   },
   "outputs": [],
   "source": []
  }
 ],
 "metadata": {
  "kernelspec": {
   "display_name": "Python 2",
   "language": "python",
   "name": "python2"
  },
  "language_info": {
   "codemirror_mode": {
    "name": "ipython",
    "version": 2
   },
   "file_extension": ".py",
   "mimetype": "text/x-python",
   "name": "python",
   "nbconvert_exporter": "python",
   "pygments_lexer": "ipython2",
   "version": "2.7.9"
  }
 },
 "nbformat": 4,
 "nbformat_minor": 2
}
