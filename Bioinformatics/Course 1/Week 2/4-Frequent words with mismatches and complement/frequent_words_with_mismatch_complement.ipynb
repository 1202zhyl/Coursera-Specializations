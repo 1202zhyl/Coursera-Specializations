{
 "cells": [
  {
   "cell_type": "code",
   "execution_count": 21,
   "metadata": {
    "collapsed": true
   },
   "outputs": [],
   "source": [
    "f = open(\"dataset_9_8.txt\", 'r')"
   ]
  },
  {
   "cell_type": "code",
   "execution_count": 22,
   "metadata": {
    "collapsed": true
   },
   "outputs": [],
   "source": [
    "args = f.readlines()"
   ]
  },
  {
   "cell_type": "code",
   "execution_count": 23,
   "metadata": {
    "collapsed": false
   },
   "outputs": [],
   "source": [
    "string = args[0].strip()\n",
    "k = int(args[1].strip().split(\" \")[0])\n",
    "d = int(args[1].strip().split(\" \")[1])\n",
    "# string = \"ACGTTGCATGTCGCATGATGCATGAGAGCT\"\n",
    "# k = 4\n",
    "# d = 1"
   ]
  },
  {
   "cell_type": "code",
   "execution_count": 24,
   "metadata": {
    "collapsed": true
   },
   "outputs": [],
   "source": [
    "bases = ['A', 'C', 'G', 'T']"
   ]
  },
  {
   "cell_type": "code",
   "execution_count": 25,
   "metadata": {
    "collapsed": true
   },
   "outputs": [],
   "source": [
    "def all_kmers(k):\n",
    "    if k == 1:\n",
    "        return bases\n",
    "    \n",
    "    kmers = []\n",
    "    k_minus_one_mers = all_kmers(k-1)\n",
    "    for base in bases:\n",
    "        for i, kmer in enumerate(k_minus_one_mers):\n",
    "            kmers.append(base + kmer)\n",
    "    \n",
    "    return kmers"
   ]
  },
  {
   "cell_type": "code",
   "execution_count": 26,
   "metadata": {
    "collapsed": false
   },
   "outputs": [],
   "source": [
    "kmers = all_kmers(k)"
   ]
  },
  {
   "cell_type": "code",
   "execution_count": 27,
   "metadata": {
    "collapsed": true
   },
   "outputs": [],
   "source": [
    "dp = {}"
   ]
  },
  {
   "cell_type": "code",
   "execution_count": 28,
   "metadata": {
    "collapsed": false
   },
   "outputs": [],
   "source": [
    "def get_neighborhood(string, d, index):\n",
    "    if d == 0:\n",
    "        return [string[index:]]\n",
    "\n",
    "    if d > (len(string) - index):\n",
    "        return None\n",
    "    \n",
    "    pair = (index, d)\n",
    "    if pair in dp: \n",
    "        return dp[pair]\n",
    "    \n",
    "    neighbors = get_neighborhood(string, d, index+1)\n",
    "    if neighbors is None:\n",
    "        neighbors = []\n",
    "    else:\n",
    "        neighbors = [string[index] + neighbor for neighbor in neighbors]\n",
    "    \n",
    "    d_minus_1_neighbors = get_neighborhood(string, d-1, index+1)\n",
    "    if d_minus_1_neighbors:\n",
    "        for base in bases:\n",
    "            if base == string[index]:\n",
    "                continue\n",
    "        \n",
    "            neighbors.extend([base + neighbor for neighbor in d_minus_1_neighbors])\n",
    "    \n",
    "    dp[pair] = neighbors\n",
    "    return neighbors"
   ]
  },
  {
   "cell_type": "code",
   "execution_count": 29,
   "metadata": {
    "collapsed": true
   },
   "outputs": [],
   "source": [
    "def neighborhood(string, D):\n",
    "    dp.clear()\n",
    "    all_neighbors = []\n",
    "    for d in range(D+1):\n",
    "        all_neighbors.extend(get_neighborhood(string, d, 0))\n",
    "    return all_neighbors"
   ]
  },
  {
   "cell_type": "code",
   "execution_count": 30,
   "metadata": {
    "collapsed": true
   },
   "outputs": [],
   "source": [
    "def complement(char):\n",
    "    if char == 'A': return 'T'\n",
    "    if char == 'C': return 'G'\n",
    "    if char == 'G': return 'C'\n",
    "    return 'A'"
   ]
  },
  {
   "cell_type": "code",
   "execution_count": 31,
   "metadata": {
    "collapsed": true
   },
   "outputs": [],
   "source": [
    "def reverse_complement(string):\n",
    "    complement_string = ''.join([complement(char) for char in string])\n",
    "    return complement_string[::-1]"
   ]
  },
  {
   "cell_type": "code",
   "execution_count": 32,
   "metadata": {
    "collapsed": false
   },
   "outputs": [],
   "source": [
    "count_occurences = {}\n",
    "for pattern in kmers:\n",
    "    count_occurences[pattern] = 0\n",
    "    \n",
    "count = 0\n",
    "for i in range(len(string) - k + 1):\n",
    "    search_pattern = string[i: i+k]\n",
    "    neighbours = neighborhood(search_pattern, d)\n",
    "    for neighbor in neighbours:\n",
    "        count_occurences[neighbor] += 1\n",
    "        count_occurences[reverse_complement(neighbor)] += 1"
   ]
  },
  {
   "cell_type": "code",
   "execution_count": 33,
   "metadata": {
    "collapsed": false
   },
   "outputs": [],
   "source": [
    "max_count = max(count_occurences.values())"
   ]
  },
  {
   "cell_type": "code",
   "execution_count": 34,
   "metadata": {
    "collapsed": true
   },
   "outputs": [],
   "source": [
    "result = ''"
   ]
  },
  {
   "cell_type": "code",
   "execution_count": 35,
   "metadata": {
    "collapsed": false
   },
   "outputs": [],
   "source": [
    "for pattern in count_occurences:\n",
    "    if count_occurences[pattern] == max_count:\n",
    "        result += pattern + ' '"
   ]
  },
  {
   "cell_type": "code",
   "execution_count": 36,
   "metadata": {
    "collapsed": false
   },
   "outputs": [
    {
     "name": "stdout",
     "output_type": "stream",
     "text": [
      "AGTTGTT AACAACT \n"
     ]
    }
   ],
   "source": [
    "print(result)"
   ]
  },
  {
   "cell_type": "code",
   "execution_count": null,
   "metadata": {
    "collapsed": true
   },
   "outputs": [],
   "source": []
  }
 ],
 "metadata": {
  "kernelspec": {
   "display_name": "Python 2",
   "language": "python",
   "name": "python2"
  },
  "language_info": {
   "codemirror_mode": {
    "name": "ipython",
    "version": 2
   },
   "file_extension": ".py",
   "mimetype": "text/x-python",
   "name": "python",
   "nbconvert_exporter": "python",
   "pygments_lexer": "ipython2",
   "version": "2.7.9"
  }
 },
 "nbformat": 4,
 "nbformat_minor": 2
}
