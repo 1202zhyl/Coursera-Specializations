{
 "cells": [
  {
   "cell_type": "code",
   "execution_count": 222,
   "metadata": {
    "collapsed": true
   },
   "outputs": [],
   "source": [
    "f = open(\"dataset_9_7.txt\", 'r')"
   ]
  },
  {
   "cell_type": "code",
   "execution_count": 223,
   "metadata": {
    "collapsed": true
   },
   "outputs": [],
   "source": [
    "args = f.readlines()"
   ]
  },
  {
   "cell_type": "code",
   "execution_count": 142,
   "metadata": {
    "collapsed": false
   },
   "outputs": [],
   "source": [
    "string = args[0].strip()\n",
    "k = int(args)\n",
    "d = "
   ]
  },
  {
   "cell_type": "code",
   "execution_count": 143,
   "metadata": {
    "collapsed": true
   },
   "outputs": [],
   "source": [
    "bases = ['A', 'C', 'G', 'T']"
   ]
  },
  {
   "cell_type": "code",
   "execution_count": 144,
   "metadata": {
    "collapsed": true
   },
   "outputs": [],
   "source": [
    "def all_kmers(k):\n",
    "    if k == 1:\n",
    "        return bases\n",
    "    \n",
    "    kmers = []\n",
    "    k_minus_one_mers = all_kmers(k-1)\n",
    "    for base in bases:\n",
    "        for i, kmer in enumerate(k_minus_one_mers):\n",
    "            kmers.append(base + kmer)\n",
    "    \n",
    "    return kmers"
   ]
  },
  {
   "cell_type": "code",
   "execution_count": 145,
   "metadata": {
    "collapsed": false
   },
   "outputs": [],
   "source": [
    "kmers = all_kmers(k)"
   ]
  },
  {
   "cell_type": "code",
   "execution_count": 182,
   "metadata": {
    "collapsed": true
   },
   "outputs": [],
   "source": [
    "dp = {}"
   ]
  },
  {
   "cell_type": "code",
   "execution_count": 206,
   "metadata": {
    "collapsed": false
   },
   "outputs": [],
   "source": [
    "def get_neighborhood(string, d, index):\n",
    "    if d == 0:\n",
    "        return [string[index:]]\n",
    "\n",
    "    if d > (len(string) - index):\n",
    "        return None\n",
    "    \n",
    "    pair = (index, d)\n",
    "    if pair in dp: \n",
    "        return dp[pair]\n",
    "    \n",
    "    neighbors = get_neighborhood(string, d, index+1)\n",
    "    if neighbors is None:\n",
    "        neighbors = []\n",
    "    else:\n",
    "        neighbors = [string[index] + neighbor for neighbor in neighbors]\n",
    "    \n",
    "    d_minus_1_neighbors = get_neighborhood(string, d-1, index+1)\n",
    "    if d_minus_1_neighbors:\n",
    "        for base in bases:\n",
    "            if base == string[index]:\n",
    "                continue\n",
    "        \n",
    "            neighbors.extend([base + neighbor for neighbor in d_minus_1_neighbors])\n",
    "    \n",
    "    dp[pair] = neighbors\n",
    "    return neighbors"
   ]
  },
  {
   "cell_type": "code",
   "execution_count": 213,
   "metadata": {
    "collapsed": true
   },
   "outputs": [],
   "source": [
    "def neighborhood(string, D):\n",
    "    dp.clear()\n",
    "    all_neighbors = []\n",
    "    for d in range(D+1):\n",
    "        all_neighbors.extend(get_neighborhood(string, d, 0))\n",
    "    return all_neighbors"
   ]
  },
  {
   "cell_type": "code",
   "execution_count": 216,
   "metadata": {
    "collapsed": false
   },
   "outputs": [],
   "source": [
    "count_occurences = {}\n",
    "for pattern in kmers:\n",
    "    count_occurences[pattern] = 0\n",
    "    \n",
    "count = 0\n",
    "for i in range(len(string) - k + 1):\n",
    "    search_pattern = string[i: i+k]\n",
    "    neighbours = neighborhood(search_pattern, d)\n",
    "    for neighbor in neighbours:\n",
    "        count_occurences[neighbor] += 1"
   ]
  },
  {
   "cell_type": "code",
   "execution_count": 217,
   "metadata": {
    "collapsed": false
   },
   "outputs": [],
   "source": [
    "max_count = max(count_occurences.values())"
   ]
  },
  {
   "cell_type": "code",
   "execution_count": 219,
   "metadata": {
    "collapsed": true
   },
   "outputs": [],
   "source": [
    "result = ''"
   ]
  },
  {
   "cell_type": "code",
   "execution_count": 220,
   "metadata": {
    "collapsed": false
   },
   "outputs": [],
   "source": [
    "for pattern in count_occurences:\n",
    "    if count_occurences[pattern] == max_count:\n",
    "        result += pattern + ' '"
   ]
  },
  {
   "cell_type": "code",
   "execution_count": 221,
   "metadata": {
    "collapsed": false
   },
   "outputs": [
    {
     "name": "stdout",
     "output_type": "stream",
     "text": [
      "GCGCACACAC GCACACAGAC \n"
     ]
    }
   ],
   "source": [
    "print(result)"
   ]
  },
  {
   "cell_type": "code",
   "execution_count": null,
   "metadata": {
    "collapsed": true
   },
   "outputs": [],
   "source": []
  }
 ],
 "metadata": {
  "kernelspec": {
   "display_name": "Python 2",
   "language": "python",
   "name": "python2"
  },
  "language_info": {
   "codemirror_mode": {
    "name": "ipython",
    "version": 2
   },
   "file_extension": ".py",
   "mimetype": "text/x-python",
   "name": "python",
   "nbconvert_exporter": "python",
   "pygments_lexer": "ipython2",
   "version": "2.7.9"
  }
 },
 "nbformat": 4,
 "nbformat_minor": 2
}
